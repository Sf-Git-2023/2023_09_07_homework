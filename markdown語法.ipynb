{
 "cells": [
  {
   "cell_type": "code",
   "execution_count": null,
   "metadata": {},
   "outputs": [],
   "source": [
    "# 0907 homework-markdown 語法\n",
    "# 標題 1\n",
    "## 標題 2\n",
    "...\n",
    "###### 標題 6\n",
    "## 這是標題\n",
    "這是一段文字段落\n",
    "\n",
    "這是第二行的文字段落，還是要勉強自己，笑起來處子般通紅；看人突然好想你，顯露所有鋒芒堅持方向，顯露所有鋒芒堅持方向，在我活的地方為什麼你，我嘆了嘆氣。\n",
    "> 這裡是一段引用文字\n",
    "- 這是清單\n",
    "+ 這也是清單\n",
    "* 這同樣是清單\n",
    "\t- 清單子項目"
   ]
  }
 ],
 "metadata": {
  "language_info": {
   "name": "python"
  },
  "orig_nbformat": 4
 },
 "nbformat": 4,
 "nbformat_minor": 2
}
